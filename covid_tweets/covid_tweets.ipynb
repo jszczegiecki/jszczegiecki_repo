{
 "cells": [
  {
   "cell_type": "markdown",
   "id": "0170d542",
   "metadata": {},
   "source": [
    "Data source: \n",
    "\n",
    "https://www.kaggle.com/datasets/datatattle/covid-19-nlp-text-classification"
   ]
  },
  {
   "cell_type": "markdown",
   "id": "5b51ced7",
   "metadata": {},
   "source": [
    "# Get data and packages"
   ]
  },
  {
   "cell_type": "code",
   "execution_count": 3,
   "id": "e249f43c",
   "metadata": {},
   "outputs": [],
   "source": [
    "import numpy as np\n",
    "import pandas as pd\n",
    "from sklearn.model_selection import train_test_split\n",
    "from sklearn import svm\n",
    "from sklearn.metrics import confusion_matrix, ConfusionMatrixDisplay, accuracy_score\n",
    "import matplotlib.pyplot as plt\n",
    "import re\n",
    "import string\n",
    "import optuna\n",
    "from functools import partial\n",
    "from sklearn import model_selection\n",
    "from sklearn.preprocessing import LabelEncoder\n",
    "from sklearn.feature_extraction.text import CountVectorizer\n",
    "from sklearn.feature_extraction.text import TfidfVectorizer\n",
    "from nltk.tokenize import word_tokenize\n",
    "import nltk\n",
    "from nltk.stem import WordNetLemmatizer\n",
    "from textblob import TextBlob\n",
    "import tensorflow as tf\n",
    "from keras.models import Sequential\n",
    "from keras.layers import Embedding, LSTM, Dense, Dropout\n",
    "from keras.initializers import Constant\n",
    "from tensorflow.keras.optimizers import Adam\n",
    "from keras.preprocessing.text import Tokenizer\n",
    "from tensorflow.keras.utils import pad_sequences\n",
    "import warnings"
   ]
  },
  {
   "cell_type": "code",
   "execution_count": 4,
   "id": "4e012ae2",
   "metadata": {},
   "outputs": [],
   "source": [
    "warnings.filterwarnings(\"ignore\")"
   ]
  },
  {
   "cell_type": "code",
   "execution_count": 6,
   "id": "dfa576bb",
   "metadata": {},
   "outputs": [
    {
     "data": {
      "text/html": [
       "<div>\n",
       "<style scoped>\n",
       "    .dataframe tbody tr th:only-of-type {\n",
       "        vertical-align: middle;\n",
       "    }\n",
       "\n",
       "    .dataframe tbody tr th {\n",
       "        vertical-align: top;\n",
       "    }\n",
       "\n",
       "    .dataframe thead th {\n",
       "        text-align: right;\n",
       "    }\n",
       "</style>\n",
       "<table border=\"1\" class=\"dataframe\">\n",
       "  <thead>\n",
       "    <tr style=\"text-align: right;\">\n",
       "      <th></th>\n",
       "      <th>UserName</th>\n",
       "      <th>ScreenName</th>\n",
       "      <th>Location</th>\n",
       "      <th>TweetAt</th>\n",
       "      <th>OriginalTweet</th>\n",
       "      <th>Sentiment</th>\n",
       "    </tr>\n",
       "  </thead>\n",
       "  <tbody>\n",
       "    <tr>\n",
       "      <th>0</th>\n",
       "      <td>3799</td>\n",
       "      <td>48751</td>\n",
       "      <td>London</td>\n",
       "      <td>16-03-2020</td>\n",
       "      <td>@MeNyrbie @Phil_Gahan @Chrisitv https://t.co/i...</td>\n",
       "      <td>Neutral</td>\n",
       "    </tr>\n",
       "    <tr>\n",
       "      <th>1</th>\n",
       "      <td>3800</td>\n",
       "      <td>48752</td>\n",
       "      <td>UK</td>\n",
       "      <td>16-03-2020</td>\n",
       "      <td>advice Talk to your neighbours family to excha...</td>\n",
       "      <td>Positive</td>\n",
       "    </tr>\n",
       "    <tr>\n",
       "      <th>2</th>\n",
       "      <td>3801</td>\n",
       "      <td>48753</td>\n",
       "      <td>Vagabonds</td>\n",
       "      <td>16-03-2020</td>\n",
       "      <td>Coronavirus Australia: Woolworths to give elde...</td>\n",
       "      <td>Positive</td>\n",
       "    </tr>\n",
       "    <tr>\n",
       "      <th>3</th>\n",
       "      <td>3802</td>\n",
       "      <td>48754</td>\n",
       "      <td>NaN</td>\n",
       "      <td>16-03-2020</td>\n",
       "      <td>My food stock is not the only one which is emp...</td>\n",
       "      <td>Positive</td>\n",
       "    </tr>\n",
       "    <tr>\n",
       "      <th>4</th>\n",
       "      <td>3803</td>\n",
       "      <td>48755</td>\n",
       "      <td>NaN</td>\n",
       "      <td>16-03-2020</td>\n",
       "      <td>Me, ready to go at supermarket during the #COV...</td>\n",
       "      <td>Extremely Negative</td>\n",
       "    </tr>\n",
       "    <tr>\n",
       "      <th>...</th>\n",
       "      <td>...</td>\n",
       "      <td>...</td>\n",
       "      <td>...</td>\n",
       "      <td>...</td>\n",
       "      <td>...</td>\n",
       "      <td>...</td>\n",
       "    </tr>\n",
       "    <tr>\n",
       "      <th>41152</th>\n",
       "      <td>44951</td>\n",
       "      <td>89903</td>\n",
       "      <td>Wellington City, New Zealand</td>\n",
       "      <td>14-04-2020</td>\n",
       "      <td>Airline pilots offering to stock supermarket s...</td>\n",
       "      <td>Neutral</td>\n",
       "    </tr>\n",
       "    <tr>\n",
       "      <th>41153</th>\n",
       "      <td>44952</td>\n",
       "      <td>89904</td>\n",
       "      <td>NaN</td>\n",
       "      <td>14-04-2020</td>\n",
       "      <td>Response to complaint not provided citing COVI...</td>\n",
       "      <td>Extremely Negative</td>\n",
       "    </tr>\n",
       "    <tr>\n",
       "      <th>41154</th>\n",
       "      <td>44953</td>\n",
       "      <td>89905</td>\n",
       "      <td>NaN</td>\n",
       "      <td>14-04-2020</td>\n",
       "      <td>You know itÂs getting tough when @KameronWild...</td>\n",
       "      <td>Positive</td>\n",
       "    </tr>\n",
       "    <tr>\n",
       "      <th>41155</th>\n",
       "      <td>44954</td>\n",
       "      <td>89906</td>\n",
       "      <td>NaN</td>\n",
       "      <td>14-04-2020</td>\n",
       "      <td>Is it wrong that the smell of hand sanitizer i...</td>\n",
       "      <td>Neutral</td>\n",
       "    </tr>\n",
       "    <tr>\n",
       "      <th>41156</th>\n",
       "      <td>44955</td>\n",
       "      <td>89907</td>\n",
       "      <td>i love you so much || he/him</td>\n",
       "      <td>14-04-2020</td>\n",
       "      <td>@TartiiCat Well new/used Rift S are going for ...</td>\n",
       "      <td>Negative</td>\n",
       "    </tr>\n",
       "  </tbody>\n",
       "</table>\n",
       "<p>41157 rows × 6 columns</p>\n",
       "</div>"
      ],
      "text/plain": [
       "       UserName  ScreenName                      Location     TweetAt  \\\n",
       "0          3799       48751                        London  16-03-2020   \n",
       "1          3800       48752                            UK  16-03-2020   \n",
       "2          3801       48753                     Vagabonds  16-03-2020   \n",
       "3          3802       48754                           NaN  16-03-2020   \n",
       "4          3803       48755                           NaN  16-03-2020   \n",
       "...         ...         ...                           ...         ...   \n",
       "41152     44951       89903  Wellington City, New Zealand  14-04-2020   \n",
       "41153     44952       89904                           NaN  14-04-2020   \n",
       "41154     44953       89905                           NaN  14-04-2020   \n",
       "41155     44954       89906                           NaN  14-04-2020   \n",
       "41156     44955       89907  i love you so much || he/him  14-04-2020   \n",
       "\n",
       "                                           OriginalTweet           Sentiment  \n",
       "0      @MeNyrbie @Phil_Gahan @Chrisitv https://t.co/i...             Neutral  \n",
       "1      advice Talk to your neighbours family to excha...            Positive  \n",
       "2      Coronavirus Australia: Woolworths to give elde...            Positive  \n",
       "3      My food stock is not the only one which is emp...            Positive  \n",
       "4      Me, ready to go at supermarket during the #COV...  Extremely Negative  \n",
       "...                                                  ...                 ...  \n",
       "41152  Airline pilots offering to stock supermarket s...             Neutral  \n",
       "41153  Response to complaint not provided citing COVI...  Extremely Negative  \n",
       "41154  You know itÂs getting tough when @KameronWild...            Positive  \n",
       "41155  Is it wrong that the smell of hand sanitizer i...             Neutral  \n",
       "41156  @TartiiCat Well new/used Rift S are going for ...            Negative  \n",
       "\n",
       "[41157 rows x 6 columns]"
      ]
     },
     "execution_count": 6,
     "metadata": {},
     "output_type": "execute_result"
    }
   ],
   "source": [
    "df_train = pd.read_csv('Corona_NLP_train.csv', encoding='latin-1')\n",
    "df_train"
   ]
  },
  {
   "cell_type": "code",
   "execution_count": 7,
   "id": "4cce13f1",
   "metadata": {},
   "outputs": [
    {
     "name": "stdout",
     "output_type": "stream",
     "text": [
      "<class 'pandas.core.frame.DataFrame'>\n",
      "RangeIndex: 41157 entries, 0 to 41156\n",
      "Data columns (total 6 columns):\n",
      " #   Column         Non-Null Count  Dtype \n",
      "---  ------         --------------  ----- \n",
      " 0   UserName       41157 non-null  int64 \n",
      " 1   ScreenName     41157 non-null  int64 \n",
      " 2   Location       32567 non-null  object\n",
      " 3   TweetAt        41157 non-null  object\n",
      " 4   OriginalTweet  41157 non-null  object\n",
      " 5   Sentiment      41157 non-null  object\n",
      "dtypes: int64(2), object(4)\n",
      "memory usage: 1.9+ MB\n"
     ]
    }
   ],
   "source": [
    "df_train.info()"
   ]
  },
  {
   "cell_type": "code",
   "execution_count": 9,
   "id": "1dbcd1e8",
   "metadata": {},
   "outputs": [
    {
     "data": {
      "text/html": [
       "<div>\n",
       "<style scoped>\n",
       "    .dataframe tbody tr th:only-of-type {\n",
       "        vertical-align: middle;\n",
       "    }\n",
       "\n",
       "    .dataframe tbody tr th {\n",
       "        vertical-align: top;\n",
       "    }\n",
       "\n",
       "    .dataframe thead th {\n",
       "        text-align: right;\n",
       "    }\n",
       "</style>\n",
       "<table border=\"1\" class=\"dataframe\">\n",
       "  <thead>\n",
       "    <tr style=\"text-align: right;\">\n",
       "      <th></th>\n",
       "      <th>UserName</th>\n",
       "      <th>ScreenName</th>\n",
       "      <th>Location</th>\n",
       "      <th>TweetAt</th>\n",
       "      <th>OriginalTweet</th>\n",
       "      <th>Sentiment</th>\n",
       "    </tr>\n",
       "  </thead>\n",
       "  <tbody>\n",
       "    <tr>\n",
       "      <th>0</th>\n",
       "      <td>1</td>\n",
       "      <td>44953</td>\n",
       "      <td>NYC</td>\n",
       "      <td>02-03-2020</td>\n",
       "      <td>TRENDING: New Yorkers encounter empty supermar...</td>\n",
       "      <td>Extremely Negative</td>\n",
       "    </tr>\n",
       "    <tr>\n",
       "      <th>1</th>\n",
       "      <td>2</td>\n",
       "      <td>44954</td>\n",
       "      <td>Seattle, WA</td>\n",
       "      <td>02-03-2020</td>\n",
       "      <td>When I couldn't find hand sanitizer at Fred Me...</td>\n",
       "      <td>Positive</td>\n",
       "    </tr>\n",
       "    <tr>\n",
       "      <th>2</th>\n",
       "      <td>3</td>\n",
       "      <td>44955</td>\n",
       "      <td>NaN</td>\n",
       "      <td>02-03-2020</td>\n",
       "      <td>Find out how you can protect yourself and love...</td>\n",
       "      <td>Extremely Positive</td>\n",
       "    </tr>\n",
       "    <tr>\n",
       "      <th>3</th>\n",
       "      <td>4</td>\n",
       "      <td>44956</td>\n",
       "      <td>Chicagoland</td>\n",
       "      <td>02-03-2020</td>\n",
       "      <td>#Panic buying hits #NewYork City as anxious sh...</td>\n",
       "      <td>Negative</td>\n",
       "    </tr>\n",
       "    <tr>\n",
       "      <th>4</th>\n",
       "      <td>5</td>\n",
       "      <td>44957</td>\n",
       "      <td>Melbourne, Victoria</td>\n",
       "      <td>03-03-2020</td>\n",
       "      <td>#toiletpaper #dunnypaper #coronavirus #coronav...</td>\n",
       "      <td>Neutral</td>\n",
       "    </tr>\n",
       "    <tr>\n",
       "      <th>...</th>\n",
       "      <td>...</td>\n",
       "      <td>...</td>\n",
       "      <td>...</td>\n",
       "      <td>...</td>\n",
       "      <td>...</td>\n",
       "      <td>...</td>\n",
       "    </tr>\n",
       "    <tr>\n",
       "      <th>3793</th>\n",
       "      <td>3794</td>\n",
       "      <td>48746</td>\n",
       "      <td>Israel ??</td>\n",
       "      <td>16-03-2020</td>\n",
       "      <td>Meanwhile In A Supermarket in Israel -- People...</td>\n",
       "      <td>Positive</td>\n",
       "    </tr>\n",
       "    <tr>\n",
       "      <th>3794</th>\n",
       "      <td>3795</td>\n",
       "      <td>48747</td>\n",
       "      <td>Farmington, NM</td>\n",
       "      <td>16-03-2020</td>\n",
       "      <td>Did you panic buy a lot of non-perishable item...</td>\n",
       "      <td>Negative</td>\n",
       "    </tr>\n",
       "    <tr>\n",
       "      <th>3795</th>\n",
       "      <td>3796</td>\n",
       "      <td>48748</td>\n",
       "      <td>Haverford, PA</td>\n",
       "      <td>16-03-2020</td>\n",
       "      <td>Asst Prof of Economics @cconces was on @NBCPhi...</td>\n",
       "      <td>Neutral</td>\n",
       "    </tr>\n",
       "    <tr>\n",
       "      <th>3796</th>\n",
       "      <td>3797</td>\n",
       "      <td>48749</td>\n",
       "      <td>NaN</td>\n",
       "      <td>16-03-2020</td>\n",
       "      <td>Gov need to do somethings instead of biar je r...</td>\n",
       "      <td>Extremely Negative</td>\n",
       "    </tr>\n",
       "    <tr>\n",
       "      <th>3797</th>\n",
       "      <td>3798</td>\n",
       "      <td>48750</td>\n",
       "      <td>Arlington, Virginia</td>\n",
       "      <td>16-03-2020</td>\n",
       "      <td>I and @ForestandPaper members are committed to...</td>\n",
       "      <td>Extremely Positive</td>\n",
       "    </tr>\n",
       "  </tbody>\n",
       "</table>\n",
       "<p>3798 rows × 6 columns</p>\n",
       "</div>"
      ],
      "text/plain": [
       "      UserName  ScreenName             Location     TweetAt  \\\n",
       "0            1       44953                  NYC  02-03-2020   \n",
       "1            2       44954          Seattle, WA  02-03-2020   \n",
       "2            3       44955                  NaN  02-03-2020   \n",
       "3            4       44956          Chicagoland  02-03-2020   \n",
       "4            5       44957  Melbourne, Victoria  03-03-2020   \n",
       "...        ...         ...                  ...         ...   \n",
       "3793      3794       48746            Israel ??  16-03-2020   \n",
       "3794      3795       48747       Farmington, NM  16-03-2020   \n",
       "3795      3796       48748        Haverford, PA  16-03-2020   \n",
       "3796      3797       48749                  NaN  16-03-2020   \n",
       "3797      3798       48750  Arlington, Virginia  16-03-2020   \n",
       "\n",
       "                                          OriginalTweet           Sentiment  \n",
       "0     TRENDING: New Yorkers encounter empty supermar...  Extremely Negative  \n",
       "1     When I couldn't find hand sanitizer at Fred Me...            Positive  \n",
       "2     Find out how you can protect yourself and love...  Extremely Positive  \n",
       "3     #Panic buying hits #NewYork City as anxious sh...            Negative  \n",
       "4     #toiletpaper #dunnypaper #coronavirus #coronav...             Neutral  \n",
       "...                                                 ...                 ...  \n",
       "3793  Meanwhile In A Supermarket in Israel -- People...            Positive  \n",
       "3794  Did you panic buy a lot of non-perishable item...            Negative  \n",
       "3795  Asst Prof of Economics @cconces was on @NBCPhi...             Neutral  \n",
       "3796  Gov need to do somethings instead of biar je r...  Extremely Negative  \n",
       "3797  I and @ForestandPaper members are committed to...  Extremely Positive  \n",
       "\n",
       "[3798 rows x 6 columns]"
      ]
     },
     "execution_count": 9,
     "metadata": {},
     "output_type": "execute_result"
    }
   ],
   "source": [
    "df_test = pd.read_csv('Corona_NLP_test.csv', encoding='latin-1')\n",
    "df_test"
   ]
  },
  {
   "cell_type": "code",
   "execution_count": 10,
   "id": "11ff307d",
   "metadata": {},
   "outputs": [
    {
     "name": "stdout",
     "output_type": "stream",
     "text": [
      "<class 'pandas.core.frame.DataFrame'>\n",
      "RangeIndex: 3798 entries, 0 to 3797\n",
      "Data columns (total 6 columns):\n",
      " #   Column         Non-Null Count  Dtype \n",
      "---  ------         --------------  ----- \n",
      " 0   UserName       3798 non-null   int64 \n",
      " 1   ScreenName     3798 non-null   int64 \n",
      " 2   Location       2964 non-null   object\n",
      " 3   TweetAt        3798 non-null   object\n",
      " 4   OriginalTweet  3798 non-null   object\n",
      " 5   Sentiment      3798 non-null   object\n",
      "dtypes: int64(2), object(4)\n",
      "memory usage: 178.2+ KB\n"
     ]
    }
   ],
   "source": [
    "df_test.info()"
   ]
  },
  {
   "cell_type": "code",
   "execution_count": 11,
   "id": "b885d967",
   "metadata": {},
   "outputs": [],
   "source": [
    "X = df_train.loc[:, 'OriginalTweet']\n",
    "y = df_train.loc[:, 'Sentiment']\n",
    "X_test =  df_test.loc[:, 'OriginalTweet']\n",
    "y_test = df_test.loc[:, 'Sentiment']"
   ]
  },
  {
   "cell_type": "markdown",
   "id": "b1ab8ca2",
   "metadata": {},
   "source": [
    "# Data cleaning"
   ]
  },
  {
   "cell_type": "code",
   "execution_count": 12,
   "id": "d9389675",
   "metadata": {},
   "outputs": [],
   "source": [
    "def clean_text(text):\n",
    "\n",
    "    text = text.lower()\n",
    "    text = re.sub('\\[.*?\\]', '', text)\n",
    "    text = re.sub('[%s]' % re.escape(string.punctuation), '', text)\n",
    "    text = re.sub('\\w*\\d\\w*', '', text)\n",
    "    text = re.sub('[‘’“”…]', '', text)\n",
    "    text = re.sub('\\n', '', text)\n",
    "    \n",
    "    return text"
   ]
  },
  {
   "cell_type": "code",
   "execution_count": 13,
   "id": "c7f5a015",
   "metadata": {},
   "outputs": [],
   "source": [
    "X_clean = X.apply(clean_text)\n",
    "X_test_clean = X_test.apply(clean_text)"
   ]
  },
  {
   "cell_type": "markdown",
   "id": "66f0909b",
   "metadata": {},
   "source": [
    "# Data split"
   ]
  },
  {
   "cell_type": "code",
   "execution_count": 14,
   "id": "1de97f39",
   "metadata": {},
   "outputs": [],
   "source": [
    "lb = LabelEncoder()\n",
    "y_lb = lb.fit_transform(y)\n",
    "\n",
    "X_train, X_valid, y_train, y_valid = train_test_split(X_clean, y_lb, test_size=0.1, random_state=1)"
   ]
  },
  {
   "cell_type": "markdown",
   "id": "62ec938d",
   "metadata": {},
   "source": [
    "# Using SVM"
   ]
  },
  {
   "cell_type": "markdown",
   "id": "f5df3f86",
   "metadata": {},
   "source": [
    "# Bag of words"
   ]
  },
  {
   "cell_type": "code",
   "execution_count": 10,
   "id": "a22d31dd",
   "metadata": {},
   "outputs": [],
   "source": [
    "vectorizer = CountVectorizer(stop_words = 'english', binary = True, ngram_range = (1,2))"
   ]
  },
  {
   "cell_type": "code",
   "execution_count": 11,
   "id": "996eb4ac",
   "metadata": {},
   "outputs": [],
   "source": [
    "X_train_bow =  vectorizer.fit_transform(X_train)\n",
    "X_valid_bow =  vectorizer.transform(X_valid)"
   ]
  },
  {
   "cell_type": "code",
   "execution_count": 12,
   "id": "8a583421",
   "metadata": {},
   "outputs": [],
   "source": [
    "clf_svm_bow = svm.SVC(kernel='linear')\n",
    "clf_svm_bow.fit(X_train_bow, y_train)\n",
    "preds_svm_bow = clf_svm_bow.predict(X_valid_bow)"
   ]
  },
  {
   "cell_type": "code",
   "execution_count": 13,
   "id": "7209d4cc",
   "metadata": {},
   "outputs": [],
   "source": [
    "def conf_matrix(valid, preds, labels):\n",
    "    \n",
    "    cm = confusion_matrix(y_valid, preds)\n",
    "    cmp = ConfusionMatrixDisplay(confusion_matrix=cm, display_labels=labels)\n",
    "    fig, ax = plt.subplots(figsize=(12,12))\n",
    "    cmp.plot(ax=ax)\n",
    "\n",
    "    print(\"ACCURACY: \", accuracy_score(preds, y_valid))"
   ]
  },
  {
   "cell_type": "code",
   "execution_count": 14,
   "id": "30165cb6",
   "metadata": {},
   "outputs": [
    {
     "name": "stdout",
     "output_type": "stream",
     "text": [
      "ACCURACY:  0.61977648202138\n"
     ]
    },
    {
     "data": {
      "image/png": "[encoded data removed]",
      "text/plain": [
       "<Figure size 864x864 with 2 Axes>"
      ]
     },
     "metadata": {
      "needs_background": "light"
     },
     "output_type": "display_data"
    }
   ],
   "source": [
    "conf_matrix(y_valid, preds_svm_bow, lb.classes_)"
   ]
  },
  {
   "cell_type": "markdown",
   "id": "99cb8ee4",
   "metadata": {},
   "source": [
    "# TF-IDF"
   ]
  },
  {
   "cell_type": "code",
   "execution_count": 15,
   "id": "a93f2381",
   "metadata": {},
   "outputs": [],
   "source": [
    "tfidf = TfidfVectorizer(stop_words = 'english')"
   ]
  },
  {
   "cell_type": "code",
   "execution_count": 16,
   "id": "2136f2c7",
   "metadata": {},
   "outputs": [],
   "source": [
    "X_train_tfidf =  tfidf.fit_transform(X_train)\n",
    "X_valid_tfidf =  tfidf.transform(X_valid)"
   ]
  },
  {
   "cell_type": "code",
   "execution_count": 17,
   "id": "3e8cf26a",
   "metadata": {},
   "outputs": [],
   "source": [
    "clf_svm_tfidf = svm.SVC(kernel='linear')\n",
    "clf_svm_tfidf.fit(X_train_tfidf, y_train)\n",
    "preds_svm_tfidf = clf_svm_tfidf.predict(X_valid_tfidf)"
   ]
  },
  {
   "cell_type": "code",
   "execution_count": 18,
   "id": "469bc858",
   "metadata": {},
   "outputs": [
    {
     "name": "stdout",
     "output_type": "stream",
     "text": [
      "ACCURACY:  0.6134596695821186\n"
     ]
    },
    {
     "data": {
      "image/png": "[encoded data removed]",
      "text/plain": [
       "<Figure size 864x864 with 2 Axes>"
      ]
     },
     "metadata": {
      "needs_background": "light"
     },
     "output_type": "display_data"
    }
   ],
   "source": [
    "conf_matrix(y_valid, preds_svm_tfidf, lb.classes_)"
   ]
  },
  {
   "cell_type": "markdown",
   "id": "a4e49b64",
   "metadata": {},
   "source": [
    "# Adding lemmatization to the TF-IDF model"
   ]
  },
  {
   "cell_type": "code",
   "execution_count": 19,
   "id": "a7b788d3",
   "metadata": {},
   "outputs": [
    {
     "name": "stderr",
     "output_type": "stream",
     "text": [
      "[nltk_data] Downloading package averaged_perceptron_tagger to\n",
      "[nltk_data]     C:\\Users\\jakub\\AppData\\Roaming\\nltk_data...\n",
      "[nltk_data]   Package averaged_perceptron_tagger is already up-to-\n",
      "[nltk_data]       date!\n"
     ]
    }
   ],
   "source": [
    "nltk.download('averaged_perceptron_tagger')\n",
    "\n",
    "lemmatizer = WordNetLemmatizer()"
   ]
  },
  {
   "cell_type": "code",
   "execution_count": 20,
   "id": "fd192796",
   "metadata": {},
   "outputs": [],
   "source": [
    "X_train_lemma = []\n",
    "\n",
    "for tweet in X_train:\n",
    "    \n",
    "    lemma_tweet = lemmatizer.lemmatize(tweet)\n",
    "    X_train_lemma.append(lemma_tweet)\n",
    "    \n",
    "X_valid_lemma = []\n",
    "\n",
    "for tweet in X_valid:\n",
    "    \n",
    "    lemma_tweet = lemmatizer.lemmatize(tweet)\n",
    "    X_valid_lemma.append(lemma_tweet)"
   ]
  },
  {
   "cell_type": "code",
   "execution_count": 21,
   "id": "a06f7812",
   "metadata": {},
   "outputs": [],
   "source": [
    "X_train_lemma_tfidf =  tfidf.fit_transform(X_train_lemma)\n",
    "X_valid_lemma_tfidf =  tfidf.transform(X_valid_lemma)"
   ]
  },
  {
   "cell_type": "code",
   "execution_count": 22,
   "id": "78c4dc2d",
   "metadata": {},
   "outputs": [],
   "source": [
    "clf_svm_lemma_tfidf = svm.SVC(kernel='linear')\n",
    "clf_svm_lemma_tfidf.fit(X_train_lemma_tfidf, y_train)\n",
    "preds_svm_lemma_tfidf = clf_svm_lemma_tfidf.predict(X_valid_lemma_tfidf)"
   ]
  },
  {
   "cell_type": "code",
   "execution_count": 23,
   "id": "957b4af4",
   "metadata": {},
   "outputs": [
    {
     "name": "stdout",
     "output_type": "stream",
     "text": [
      "ACCURACY:  0.6134596695821186\n"
     ]
    },
    {
     "data": {
      "image/png": "[encoded data removed]",
      "text/plain": [
       "<Figure size 864x864 with 2 Axes>"
      ]
     },
     "metadata": {
      "needs_background": "light"
     },
     "output_type": "display_data"
    }
   ],
   "source": [
    "conf_matrix(y_valid, preds_svm_lemma_tfidf, lb.classes_)"
   ]
  },
  {
   "cell_type": "markdown",
   "id": "5a826908",
   "metadata": {},
   "source": [
    "# GloVe and LSTM"
   ]
  },
  {
   "cell_type": "code",
   "execution_count": 24,
   "id": "fe32d546",
   "metadata": {},
   "outputs": [],
   "source": [
    "def create_corpus_tk(df):\n",
    "    \n",
    "    corpus = []\n",
    "    for text in X_clean:\n",
    "        words = [word for word in word_tokenize(text)]\n",
    "        corpus.append(words)\n",
    "        \n",
    "    return corpus "
   ]
  },
  {
   "cell_type": "code",
   "execution_count": 25,
   "id": "962790b9",
   "metadata": {},
   "outputs": [],
   "source": [
    "def padding(X_train, X_valid, dim = 50):\n",
    "    \n",
    "    corpus = create_corpus_tk(X_train)\n",
    "    corpus_num_words = len(corpus)\n",
    "    \n",
    "    tokenizer = Tokenizer(num_words = corpus_num_words)\n",
    "    tokenizer.fit_on_texts(X_train)\n",
    "    \n",
    "    train_sequences = tokenizer.texts_to_sequences(X_train)\n",
    "    train_padded = pad_sequences(train_sequences, maxlen = dim, truncating = 'post', padding = 'post')\n",
    "    \n",
    "    valid_sequences = tokenizer.texts_to_sequences(X_valid)\n",
    "    valid_padded = pad_sequences(valid_sequences, maxlen = dim, truncating = 'post', padding = 'post')\n",
    "    \n",
    "    word_index = tokenizer.word_index\n",
    "    \n",
    "    return train_padded, valid_padded, word_index"
   ]
  },
  {
   "cell_type": "code",
   "execution_count": 26,
   "id": "cf7b8cbe",
   "metadata": {},
   "outputs": [],
   "source": [
    "train_padded, valid_padded, word_index = padding(X_train, X_valid)"
   ]
  },
  {
   "cell_type": "code",
   "execution_count": 27,
   "id": "146cffe9",
   "metadata": {},
   "outputs": [],
   "source": [
    "def get_glove_embedding(word_index, dim = 50):\n",
    "\n",
    "    embeddings_dict={}\n",
    "    with open('./glove.twitter.27B.50d.txt','rb') as f:\n",
    "        for line in f:\n",
    "            values = line.split()\n",
    "            word = values[0]\n",
    "            vector = np.asarray(values[1:], \"float32\")\n",
    "            embeddings_dict[word] = vector\n",
    "            \n",
    "    EMBEDDING_DIM = embeddings_dict.get(b'a').shape[0]\n",
    "    num_words = max(dim, len(word_index)) + 1\n",
    "    embedding_matrix = np.zeros((num_words, EMBEDDING_DIM))\n",
    "    for word, i in word_index.items():\n",
    "        if i > num_words:\n",
    "            continue\n",
    "        embedding_vector = embeddings_dict.get(word.encode(\"utf-8\")) \n",
    "        if embedding_vector is not None:\n",
    "            embedding_matrix[i] = embedding_vector\n",
    "            \n",
    "    return num_words, embedding_matrix"
   ]
  },
  {
   "cell_type": "code",
   "execution_count": 28,
   "id": "2d6093bb",
   "metadata": {},
   "outputs": [],
   "source": [
    "num_words, embedding_matrix = get_glove_embedding(word_index)"
   ]
  },
  {
   "cell_type": "markdown",
   "id": "5810e231",
   "metadata": {},
   "source": [
    "# LSTM with GloVe"
   ]
  },
  {
   "cell_type": "code",
   "execution_count": 29,
   "id": "04241cc6",
   "metadata": {},
   "outputs": [],
   "source": [
    "model = Sequential()\n",
    "\n",
    "model.add(\n",
    "    Embedding(\n",
    "        num_words,\n",
    "        50,\n",
    "        embeddings_initializer = Constant(embedding_matrix),\n",
    "        input_length = 50,\n",
    "        trainable = False,\n",
    "    )\n",
    ")\n",
    "model.add(LSTM(50, dropout = 0.1))\n",
    "model.add(Dense(5, activation = 'softmax'))\n",
    "\n",
    "optimizer = Adam()\n",
    "\n",
    "model.compile(loss = 'sparse_categorical_crossentropy', optimizer = optimizer, metrics = ['accuracy'])"
   ]
  },
  {
   "cell_type": "code",
   "execution_count": 30,
   "id": "4ee79c31",
   "metadata": {
    "scrolled": true
   },
   "outputs": [
    {
     "name": "stdout",
     "output_type": "stream",
     "text": [
      "Epoch 1/100\n",
      "1158/1158 [==============================] - 16s 13ms/step - loss: 1.3865 - accuracy: 0.3823 - val_loss: 1.2214 - val_accuracy: 0.4845\n",
      "Epoch 2/100\n",
      "1158/1158 [==============================] - 14s 12ms/step - loss: 1.2180 - accuracy: 0.4761 - val_loss: 1.1632 - val_accuracy: 0.5063\n",
      "Epoch 3/100\n",
      "1158/1158 [==============================] - 15s 13ms/step - loss: 1.1652 - accuracy: 0.5047 - val_loss: 1.1351 - val_accuracy: 0.5328\n",
      "Epoch 4/100\n",
      "1158/1158 [==============================] - 15s 13ms/step - loss: 1.1281 - accuracy: 0.5238 - val_loss: 1.1010 - val_accuracy: 0.5442\n",
      "Epoch 5/100\n",
      "1158/1158 [==============================] - 15s 13ms/step - loss: 1.1016 - accuracy: 0.5355 - val_loss: 1.0880 - val_accuracy: 0.5549\n",
      "Epoch 6/100\n",
      "1158/1158 [==============================] - 15s 13ms/step - loss: 1.0795 - accuracy: 0.5476 - val_loss: 1.0594 - val_accuracy: 0.5646\n",
      "Epoch 7/100\n",
      "1158/1158 [==============================] - 15s 13ms/step - loss: 1.0599 - accuracy: 0.5571 - val_loss: 1.0572 - val_accuracy: 0.5695\n",
      "Epoch 8/100\n",
      "1158/1158 [==============================] - 15s 13ms/step - loss: 1.0424 - accuracy: 0.5640 - val_loss: 1.0587 - val_accuracy: 0.5680\n",
      "Epoch 9/100\n",
      "1158/1158 [==============================] - 15s 13ms/step - loss: 1.0209 - accuracy: 0.5772 - val_loss: 1.0839 - val_accuracy: 0.5520\n",
      "Epoch 10/100\n",
      "1158/1158 [==============================] - 15s 13ms/step - loss: 1.0084 - accuracy: 0.5832 - val_loss: 1.0187 - val_accuracy: 0.5945\n",
      "Epoch 11/100\n",
      "1158/1158 [==============================] - 15s 13ms/step - loss: 0.9912 - accuracy: 0.5909 - val_loss: 1.0028 - val_accuracy: 0.5999\n",
      "Epoch 12/100\n",
      "1158/1158 [==============================] - 15s 13ms/step - loss: 0.9864 - accuracy: 0.5931 - val_loss: 1.0075 - val_accuracy: 0.5882\n",
      "Epoch 13/100\n",
      "1158/1158 [==============================] - 15s 13ms/step - loss: 0.9691 - accuracy: 0.6025 - val_loss: 1.0117 - val_accuracy: 0.5897\n",
      "Epoch 14/100\n",
      "1158/1158 [==============================] - 15s 13ms/step - loss: 0.9565 - accuracy: 0.6088 - val_loss: 0.9877 - val_accuracy: 0.6047\n",
      "Epoch 15/100\n",
      "1158/1158 [==============================] - 15s 13ms/step - loss: 0.9491 - accuracy: 0.6123 - val_loss: 0.9845 - val_accuracy: 0.6018\n",
      "Epoch 16/100\n",
      "1158/1158 [==============================] - 15s 13ms/step - loss: 0.9359 - accuracy: 0.6184 - val_loss: 1.0016 - val_accuracy: 0.6059\n",
      "Epoch 17/100\n",
      "1158/1158 [==============================] - 15s 13ms/step - loss: 0.9299 - accuracy: 0.6209 - val_loss: 0.9639 - val_accuracy: 0.6135\n",
      "Epoch 18/100\n",
      "1158/1158 [==============================] - 15s 13ms/step - loss: 0.9231 - accuracy: 0.6264 - val_loss: 0.9585 - val_accuracy: 0.6229\n",
      "Epoch 19/100\n",
      "1158/1158 [==============================] - 15s 13ms/step - loss: 0.9118 - accuracy: 0.6333 - val_loss: 0.9658 - val_accuracy: 0.6130\n",
      "Epoch 20/100\n",
      "1158/1158 [==============================] - 15s 13ms/step - loss: 0.9039 - accuracy: 0.6334 - val_loss: 0.9681 - val_accuracy: 0.6178\n",
      "Epoch 21/100\n",
      "1158/1158 [==============================] - 15s 13ms/step - loss: 0.8968 - accuracy: 0.6392 - val_loss: 0.9570 - val_accuracy: 0.6137\n",
      "Epoch 22/100\n",
      "1158/1158 [==============================] - 15s 13ms/step - loss: 0.8921 - accuracy: 0.6433 - val_loss: 0.9570 - val_accuracy: 0.6200\n",
      "Epoch 23/100\n",
      "1158/1158 [==============================] - 16s 13ms/step - loss: 0.8870 - accuracy: 0.6437 - val_loss: 0.9479 - val_accuracy: 0.6237\n",
      "Epoch 24/100\n",
      "1158/1158 [==============================] - 16s 13ms/step - loss: 0.8713 - accuracy: 0.6539 - val_loss: 0.9343 - val_accuracy: 0.6278\n",
      "Epoch 25/100\n",
      "1158/1158 [==============================] - 15s 13ms/step - loss: 0.8715 - accuracy: 0.6501 - val_loss: 0.9346 - val_accuracy: 0.6358\n",
      "Epoch 26/100\n",
      "1158/1158 [==============================] - 15s 13ms/step - loss: 0.8653 - accuracy: 0.6535 - val_loss: 0.9477 - val_accuracy: 0.6302\n",
      "Epoch 27/100\n",
      "1158/1158 [==============================] - 15s 13ms/step - loss: 0.8583 - accuracy: 0.6567 - val_loss: 0.9308 - val_accuracy: 0.6302\n",
      "Epoch 28/100\n",
      "1158/1158 [==============================] - 15s 13ms/step - loss: 0.8554 - accuracy: 0.6598 - val_loss: 0.9376 - val_accuracy: 0.6327\n",
      "Epoch 29/100\n",
      "1158/1158 [==============================] - 15s 13ms/step - loss: 0.8501 - accuracy: 0.6601 - val_loss: 0.9492 - val_accuracy: 0.6271\n",
      "Epoch 30/100\n",
      "1158/1158 [==============================] - 15s 13ms/step - loss: 0.8418 - accuracy: 0.6697 - val_loss: 0.9215 - val_accuracy: 0.6368\n",
      "Epoch 31/100\n",
      "1158/1158 [==============================] - 14s 13ms/step - loss: 0.8429 - accuracy: 0.6665 - val_loss: 0.9379 - val_accuracy: 0.6329\n",
      "Epoch 32/100\n",
      "1158/1158 [==============================] - 14s 12ms/step - loss: 0.8338 - accuracy: 0.6697 - val_loss: 0.9336 - val_accuracy: 0.6416\n",
      "Epoch 33/100\n",
      "1158/1158 [==============================] - 14s 12ms/step - loss: 0.8325 - accuracy: 0.6693 - val_loss: 0.9386 - val_accuracy: 0.6358\n",
      "Epoch 34/100\n",
      "1158/1158 [==============================] - 15s 13ms/step - loss: 0.8298 - accuracy: 0.6730 - val_loss: 0.9234 - val_accuracy: 0.6399\n",
      "Epoch 35/100\n",
      "1158/1158 [==============================] - 15s 13ms/step - loss: 0.8213 - accuracy: 0.6758 - val_loss: 0.9282 - val_accuracy: 0.6404\n",
      "Epoch 36/100\n",
      "1158/1158 [==============================] - 15s 13ms/step - loss: 0.8148 - accuracy: 0.6760 - val_loss: 0.9236 - val_accuracy: 0.6426\n",
      "Epoch 37/100\n",
      "1158/1158 [==============================] - 14s 13ms/step - loss: 0.8163 - accuracy: 0.6774 - val_loss: 0.9235 - val_accuracy: 0.6480\n",
      "Epoch 38/100\n",
      "1158/1158 [==============================] - 15s 13ms/step - loss: 0.8113 - accuracy: 0.6808 - val_loss: 0.9134 - val_accuracy: 0.6538\n",
      "Epoch 39/100\n",
      "1158/1158 [==============================] - 15s 13ms/step - loss: 0.8084 - accuracy: 0.6840 - val_loss: 0.9158 - val_accuracy: 0.6516\n",
      "Epoch 40/100\n",
      "1158/1158 [==============================] - 14s 12ms/step - loss: 0.8044 - accuracy: 0.6827 - val_loss: 0.9249 - val_accuracy: 0.6472\n",
      "Epoch 41/100\n",
      "1158/1158 [==============================] - 15s 13ms/step - loss: 0.8041 - accuracy: 0.6845 - val_loss: 0.9180 - val_accuracy: 0.6487\n",
      "Epoch 42/100\n",
      "1158/1158 [==============================] - 15s 13ms/step - loss: 0.7989 - accuracy: 0.6861 - val_loss: 0.9275 - val_accuracy: 0.6484\n",
      "Epoch 43/100\n",
      "1158/1158 [==============================] - 15s 13ms/step - loss: 0.7988 - accuracy: 0.6856 - val_loss: 0.9336 - val_accuracy: 0.6467\n",
      "Epoch 44/100\n",
      "1158/1158 [==============================] - 15s 13ms/step - loss: 0.7916 - accuracy: 0.6897 - val_loss: 0.9146 - val_accuracy: 0.6538\n",
      "Epoch 45/100\n",
      "1158/1158 [==============================] - 15s 13ms/step - loss: 0.7906 - accuracy: 0.6914 - val_loss: 0.9163 - val_accuracy: 0.6460\n",
      "Epoch 46/100\n",
      "1158/1158 [==============================] - 15s 13ms/step - loss: 0.7852 - accuracy: 0.6918 - val_loss: 0.9122 - val_accuracy: 0.6506\n",
      "Epoch 47/100\n",
      "1158/1158 [==============================] - 14s 13ms/step - loss: 0.7904 - accuracy: 0.6900 - val_loss: 0.9225 - val_accuracy: 0.6382\n",
      "Epoch 48/100\n",
      "1158/1158 [==============================] - 15s 13ms/step - loss: 0.7830 - accuracy: 0.6922 - val_loss: 0.9137 - val_accuracy: 0.6543\n",
      "Epoch 49/100\n",
      "1158/1158 [==============================] - 15s 13ms/step - loss: 0.7782 - accuracy: 0.6947 - val_loss: 0.9094 - val_accuracy: 0.6548\n",
      "Epoch 50/100\n",
      "1158/1158 [==============================] - 15s 13ms/step - loss: 0.7759 - accuracy: 0.6963 - val_loss: 0.8981 - val_accuracy: 0.6625\n",
      "Epoch 51/100\n",
      "1158/1158 [==============================] - 15s 13ms/step - loss: 0.7757 - accuracy: 0.6946 - val_loss: 0.8919 - val_accuracy: 0.6642\n",
      "Epoch 52/100\n",
      "1158/1158 [==============================] - 15s 13ms/step - loss: 0.7756 - accuracy: 0.6953 - val_loss: 0.9108 - val_accuracy: 0.6531\n",
      "Epoch 53/100\n",
      "1158/1158 [==============================] - 15s 13ms/step - loss: 0.7687 - accuracy: 0.7026 - val_loss: 0.9313 - val_accuracy: 0.6501\n",
      "Epoch 54/100\n",
      "1158/1158 [==============================] - 15s 13ms/step - loss: 0.7707 - accuracy: 0.6977 - val_loss: 0.8960 - val_accuracy: 0.6528\n",
      "Epoch 55/100\n",
      "1158/1158 [==============================] - 15s 13ms/step - loss: 0.7651 - accuracy: 0.7013 - val_loss: 0.9029 - val_accuracy: 0.6543\n",
      "Epoch 56/100\n",
      "1158/1158 [==============================] - 15s 13ms/step - loss: 0.7649 - accuracy: 0.7016 - val_loss: 0.9001 - val_accuracy: 0.6586\n",
      "Epoch 57/100\n",
      "1158/1158 [==============================] - 15s 13ms/step - loss: 0.7590 - accuracy: 0.7036 - val_loss: 0.9110 - val_accuracy: 0.6606\n",
      "Epoch 58/100\n",
      "1158/1158 [==============================] - 15s 13ms/step - loss: 0.7563 - accuracy: 0.7054 - val_loss: 0.8964 - val_accuracy: 0.6645\n",
      "Epoch 59/100\n",
      "1158/1158 [==============================] - 15s 13ms/step - loss: 0.7563 - accuracy: 0.7048 - val_loss: 0.9107 - val_accuracy: 0.6569\n",
      "Epoch 60/100\n",
      "1158/1158 [==============================] - 15s 13ms/step - loss: 0.7586 - accuracy: 0.7020 - val_loss: 0.8874 - val_accuracy: 0.6693\n",
      "Epoch 61/100\n",
      "1158/1158 [==============================] - 15s 13ms/step - loss: 0.7509 - accuracy: 0.7069 - val_loss: 0.8990 - val_accuracy: 0.6628\n",
      "Epoch 62/100\n",
      "1158/1158 [==============================] - 15s 13ms/step - loss: 0.7485 - accuracy: 0.7071 - val_loss: 0.8939 - val_accuracy: 0.6667\n",
      "Epoch 63/100\n",
      "1158/1158 [==============================] - 15s 13ms/step - loss: 0.7450 - accuracy: 0.7109 - val_loss: 0.9098 - val_accuracy: 0.6616\n",
      "Epoch 64/100\n",
      "1158/1158 [==============================] - 15s 13ms/step - loss: 0.7454 - accuracy: 0.7116 - val_loss: 0.9029 - val_accuracy: 0.6652\n",
      "Epoch 65/100\n",
      "1158/1158 [==============================] - 14s 12ms/step - loss: 0.7445 - accuracy: 0.7098 - val_loss: 0.8919 - val_accuracy: 0.6628\n",
      "Epoch 66/100\n",
      "1158/1158 [==============================] - 15s 13ms/step - loss: 0.7455 - accuracy: 0.7100 - val_loss: 0.9003 - val_accuracy: 0.6642\n",
      "Epoch 67/100\n",
      "1158/1158 [==============================] - 14s 12ms/step - loss: 0.7425 - accuracy: 0.7121 - val_loss: 0.9016 - val_accuracy: 0.6652\n",
      "Epoch 68/100\n",
      "1158/1158 [==============================] - 14s 13ms/step - loss: 0.7356 - accuracy: 0.7143 - val_loss: 0.9068 - val_accuracy: 0.6642\n",
      "Epoch 69/100\n",
      "1158/1158 [==============================] - 15s 13ms/step - loss: 0.7366 - accuracy: 0.7131 - val_loss: 0.8910 - val_accuracy: 0.6715\n",
      "Epoch 70/100\n",
      "1158/1158 [==============================] - 14s 13ms/step - loss: 0.7363 - accuracy: 0.7120 - val_loss: 0.9165 - val_accuracy: 0.6579\n",
      "Epoch 71/100\n",
      "1158/1158 [==============================] - 15s 13ms/step - loss: 0.7342 - accuracy: 0.7139 - val_loss: 0.9027 - val_accuracy: 0.6616\n",
      "Epoch 72/100\n",
      "1158/1158 [==============================] - 15s 13ms/step - loss: 0.7325 - accuracy: 0.7140 - val_loss: 0.8949 - val_accuracy: 0.6650\n",
      "Epoch 73/100\n",
      "1158/1158 [==============================] - 15s 13ms/step - loss: 0.7333 - accuracy: 0.7153 - val_loss: 0.9301 - val_accuracy: 0.6463\n",
      "Epoch 74/100\n",
      "1158/1158 [==============================] - 15s 13ms/step - loss: 0.7288 - accuracy: 0.7180 - val_loss: 0.8861 - val_accuracy: 0.6645\n",
      "Epoch 75/100\n",
      "1158/1158 [==============================] - 15s 13ms/step - loss: 0.7310 - accuracy: 0.7179 - val_loss: 0.9092 - val_accuracy: 0.6723\n",
      "Epoch 76/100\n",
      "1158/1158 [==============================] - 14s 12ms/step - loss: 0.7290 - accuracy: 0.7156 - val_loss: 0.9060 - val_accuracy: 0.6659\n",
      "Epoch 77/100\n",
      "1158/1158 [==============================] - 15s 13ms/step - loss: 0.7230 - accuracy: 0.7188 - val_loss: 0.9004 - val_accuracy: 0.6599\n",
      "Epoch 78/100\n",
      "1158/1158 [==============================] - 15s 13ms/step - loss: 0.7255 - accuracy: 0.7190 - val_loss: 0.8960 - val_accuracy: 0.6638\n",
      "Epoch 79/100\n",
      "1158/1158 [==============================] - 15s 13ms/step - loss: 0.7254 - accuracy: 0.7190 - val_loss: 0.9178 - val_accuracy: 0.6603\n",
      "Epoch 80/100\n",
      "1158/1158 [==============================] - 15s 13ms/step - loss: 0.7234 - accuracy: 0.7190 - val_loss: 0.8842 - val_accuracy: 0.6664\n",
      "Epoch 81/100\n",
      "1158/1158 [==============================] - 15s 13ms/step - loss: 0.7224 - accuracy: 0.7191 - val_loss: 0.8993 - val_accuracy: 0.6664\n",
      "Epoch 82/100\n",
      "1158/1158 [==============================] - 15s 13ms/step - loss: 0.7182 - accuracy: 0.7234 - val_loss: 0.9041 - val_accuracy: 0.6611\n",
      "Epoch 83/100\n",
      "1158/1158 [==============================] - 15s 13ms/step - loss: 0.7163 - accuracy: 0.7254 - val_loss: 0.8924 - val_accuracy: 0.6613\n",
      "Epoch 84/100\n",
      "1158/1158 [==============================] - 15s 13ms/step - loss: 0.7194 - accuracy: 0.7211 - val_loss: 0.8963 - val_accuracy: 0.6662\n",
      "Epoch 85/100\n",
      "1158/1158 [==============================] - 15s 13ms/step - loss: 0.7179 - accuracy: 0.7215 - val_loss: 0.8948 - val_accuracy: 0.6689\n",
      "Epoch 86/100\n",
      "1158/1158 [==============================] - 15s 13ms/step - loss: 0.7141 - accuracy: 0.7257 - val_loss: 0.8921 - val_accuracy: 0.6732\n",
      "Epoch 87/100\n",
      "1158/1158 [==============================] - 15s 13ms/step - loss: 0.7136 - accuracy: 0.7207 - val_loss: 0.9007 - val_accuracy: 0.6701\n",
      "Epoch 88/100\n",
      "1158/1158 [==============================] - 16s 14ms/step - loss: 0.7097 - accuracy: 0.7261 - val_loss: 0.9156 - val_accuracy: 0.6689\n",
      "Epoch 89/100\n",
      "1158/1158 [==============================] - 15s 13ms/step - loss: 0.7140 - accuracy: 0.7236 - val_loss: 0.9018 - val_accuracy: 0.6706\n",
      "Epoch 90/100\n",
      "1158/1158 [==============================] - 15s 13ms/step - loss: 0.7083 - accuracy: 0.7262 - val_loss: 0.9050 - val_accuracy: 0.6601\n",
      "Epoch 91/100\n",
      "1158/1158 [==============================] - 15s 13ms/step - loss: 0.7095 - accuracy: 0.7268 - val_loss: 0.8924 - val_accuracy: 0.6664\n",
      "Epoch 92/100\n",
      "1158/1158 [==============================] - 15s 13ms/step - loss: 0.7070 - accuracy: 0.7289 - val_loss: 0.9195 - val_accuracy: 0.6633\n",
      "Epoch 93/100\n",
      "1158/1158 [==============================] - 15s 13ms/step - loss: 0.7084 - accuracy: 0.7265 - val_loss: 0.8955 - val_accuracy: 0.6667\n",
      "Epoch 94/100\n",
      "1158/1158 [==============================] - 15s 13ms/step - loss: 0.7071 - accuracy: 0.7284 - val_loss: 0.8927 - val_accuracy: 0.6720\n",
      "Epoch 95/100\n",
      "1158/1158 [==============================] - 15s 13ms/step - loss: 0.7028 - accuracy: 0.7289 - val_loss: 0.9049 - val_accuracy: 0.6625\n",
      "Epoch 96/100\n",
      "1158/1158 [==============================] - 15s 13ms/step - loss: 0.7062 - accuracy: 0.7273 - val_loss: 0.9034 - val_accuracy: 0.6691\n",
      "Epoch 97/100\n",
      "1158/1158 [==============================] - 15s 13ms/step - loss: 0.6994 - accuracy: 0.7316 - val_loss: 0.9099 - val_accuracy: 0.6613\n",
      "Epoch 98/100\n",
      "1158/1158 [==============================] - 15s 13ms/step - loss: 0.7045 - accuracy: 0.7268 - val_loss: 0.9075 - val_accuracy: 0.6718\n",
      "Epoch 99/100\n",
      "1158/1158 [==============================] - 15s 13ms/step - loss: 0.7026 - accuracy: 0.7299 - val_loss: 0.9267 - val_accuracy: 0.6582\n",
      "Epoch 100/100\n",
      "1158/1158 [==============================] - 15s 13ms/step - loss: 0.7006 - accuracy: 0.7286 - val_loss: 0.8901 - val_accuracy: 0.6659\n"
     ]
    }
   ],
   "source": [
    "callback = tf.keras.callbacks.EarlyStopping(monitor='loss', patience=5)\n",
    "r = model.fit(train_padded, y_train, epochs = 100, validation_data = (valid_padded, y_valid), callbacks=[callback])"
   ]
  },
  {
   "cell_type": "code",
   "execution_count": 31,
   "id": "a40e78b7",
   "metadata": {},
   "outputs": [],
   "source": [
    "preds_lstm = np.around(model.predict(valid_padded))\n",
    "preds_lstm_final = np.array([np.argmax(preds_lstm[i]) for i in range(len(preds_lstm))]).astype(int)"
   ]
  },
  {
   "cell_type": "code",
   "execution_count": 32,
   "id": "5e71f4d3",
   "metadata": {},
   "outputs": [
    {
     "data": {
      "text/plain": [
       "array([2, 2, 1, ..., 3, 0, 2])"
      ]
     },
     "execution_count": 32,
     "metadata": {},
     "output_type": "execute_result"
    }
   ],
   "source": [
    "preds_lstm_final"
   ]
  },
  {
   "cell_type": "code",
   "execution_count": 33,
   "id": "6c1169b3",
   "metadata": {},
   "outputs": [
    {
     "name": "stdout",
     "output_type": "stream",
     "text": [
      "ACCURACY:  0.6321671525753159\n"
     ]
    },
    {
     "data": {
      "image/png": "[encoded data removed]",
      "text/plain": [
       "<Figure size 864x864 with 2 Axes>"
      ]
     },
     "metadata": {
      "needs_background": "light"
     },
     "output_type": "display_data"
    }
   ],
   "source": [
    "conf_matrix(y_valid, preds_lstm_final, lb.classes_)"
   ]
  },
  {
   "cell_type": "markdown",
   "id": "cc4e8125",
   "metadata": {},
   "source": [
    "# Switching to 3-class problem"
   ]
  },
  {
   "cell_type": "code",
   "execution_count": 34,
   "id": "d115d5da",
   "metadata": {},
   "outputs": [],
   "source": [
    "y_3class = y.copy()\n",
    "for i in range(len(y)):\n",
    "    \n",
    "    if y_3class[i] == 'Extremely Negative':\n",
    "        \n",
    "        y_3class[i] = 'Negative'\n",
    "        \n",
    "    if y_3class[i] == 'Extremely Positive':\n",
    "        \n",
    "        y_3class[i] = 'Positive'\n",
    "        \n",
    "lb_3class = LabelEncoder()\n",
    "y_lb_3class = lb_3class.fit_transform(y_3class)\n",
    "\n",
    "X_train, X_valid, y_train, y_valid = train_test_split(X_clean, y_lb_3class, test_size=0.1, random_state=1)"
   ]
  },
  {
   "cell_type": "code",
   "execution_count": 35,
   "id": "efcf3d19",
   "metadata": {},
   "outputs": [],
   "source": [
    "train_padded, valid_padded, word_index = padding(X_train, X_valid)"
   ]
  },
  {
   "cell_type": "code",
   "execution_count": 36,
   "id": "43edca8d",
   "metadata": {},
   "outputs": [],
   "source": [
    "num_words, embedding_matrix = get_glove_embedding(word_index)"
   ]
  },
  {
   "cell_type": "code",
   "execution_count": 37,
   "id": "9d722963",
   "metadata": {},
   "outputs": [],
   "source": [
    "model = Sequential()\n",
    "\n",
    "model.add(\n",
    "    Embedding(\n",
    "        num_words,\n",
    "        50,\n",
    "        embeddings_initializer = Constant(embedding_matrix),\n",
    "        input_length = 50,\n",
    "        trainable = False,\n",
    "    )\n",
    ")\n",
    "model.add(LSTM(100, dropout = 0.2, return_sequences = True))\n",
    "model.add(LSTM(50, dropout = 0.2))\n",
    "model.add(Dense(3, activation = 'softmax'))\n",
    "\n",
    "optimizer = Adam()\n",
    "\n",
    "model.compile(loss = 'sparse_categorical_crossentropy', optimizer = optimizer, metrics = ['accuracy'])"
   ]
  },
  {
   "cell_type": "code",
   "execution_count": 38,
   "id": "604f18af",
   "metadata": {
    "scrolled": true
   },
   "outputs": [
    {
     "name": "stdout",
     "output_type": "stream",
     "text": [
      "Epoch 1/100\n",
      "1158/1158 [==============================] - 39s 32ms/step - loss: 0.8905 - accuracy: 0.5788 - val_loss: 0.7845 - val_accuracy: 0.6535\n",
      "Epoch 2/100\n",
      "1158/1158 [==============================] - 43s 37ms/step - loss: 0.7917 - accuracy: 0.6536 - val_loss: 0.7317 - val_accuracy: 0.6929\n",
      "Epoch 3/100\n",
      "1158/1158 [==============================] - 43s 37ms/step - loss: 0.7518 - accuracy: 0.6737 - val_loss: 0.6944 - val_accuracy: 0.7048\n",
      "Epoch 4/100\n",
      "1158/1158 [==============================] - 46s 39ms/step - loss: 0.7209 - accuracy: 0.6903 - val_loss: 0.6591 - val_accuracy: 0.7259\n",
      "Epoch 5/100\n",
      "1158/1158 [==============================] - 43s 38ms/step - loss: 0.6914 - accuracy: 0.7078 - val_loss: 0.6392 - val_accuracy: 0.7386\n",
      "Epoch 6/100\n",
      "1158/1158 [==============================] - 44s 38ms/step - loss: 0.6670 - accuracy: 0.7201 - val_loss: 0.6292 - val_accuracy: 0.7371\n",
      "Epoch 7/100\n",
      "1158/1158 [==============================] - 44s 38ms/step - loss: 0.6441 - accuracy: 0.7322 - val_loss: 0.6097 - val_accuracy: 0.7505\n",
      "Epoch 8/100\n",
      "1158/1158 [==============================] - 43s 37ms/step - loss: 0.6282 - accuracy: 0.7398 - val_loss: 0.5944 - val_accuracy: 0.7604\n",
      "Epoch 9/100\n",
      "1158/1158 [==============================] - 43s 37ms/step - loss: 0.6078 - accuracy: 0.7536 - val_loss: 0.5800 - val_accuracy: 0.7733\n",
      "Epoch 10/100\n",
      "1158/1158 [==============================] - 43s 37ms/step - loss: 0.5954 - accuracy: 0.7594 - val_loss: 0.5956 - val_accuracy: 0.7665\n",
      "Epoch 11/100\n",
      "1158/1158 [==============================] - 44s 38ms/step - loss: 0.5812 - accuracy: 0.7660 - val_loss: 0.5691 - val_accuracy: 0.7789\n",
      "Epoch 12/100\n",
      "1158/1158 [==============================] - 43s 37ms/step - loss: 0.5711 - accuracy: 0.7701 - val_loss: 0.5627 - val_accuracy: 0.7792\n",
      "Epoch 13/100\n",
      "1158/1158 [==============================] - 43s 37ms/step - loss: 0.5593 - accuracy: 0.7738 - val_loss: 0.5664 - val_accuracy: 0.7741\n",
      "Epoch 14/100\n",
      "1158/1158 [==============================] - 43s 37ms/step - loss: 0.5489 - accuracy: 0.7803 - val_loss: 0.5635 - val_accuracy: 0.7792\n",
      "Epoch 15/100\n",
      "1158/1158 [==============================] - 47s 40ms/step - loss: 0.5375 - accuracy: 0.7859 - val_loss: 0.5551 - val_accuracy: 0.7828\n",
      "Epoch 16/100\n",
      "1158/1158 [==============================] - 51s 44ms/step - loss: 0.5271 - accuracy: 0.7912 - val_loss: 0.5468 - val_accuracy: 0.7894\n",
      "Epoch 17/100\n",
      "1158/1158 [==============================] - 45s 39ms/step - loss: 0.5182 - accuracy: 0.7968 - val_loss: 0.5475 - val_accuracy: 0.7911\n",
      "Epoch 18/100\n",
      "1158/1158 [==============================] - 45s 39ms/step - loss: 0.5114 - accuracy: 0.8001 - val_loss: 0.5384 - val_accuracy: 0.7940\n",
      "Epoch 19/100\n",
      "1158/1158 [==============================] - 47s 41ms/step - loss: 0.5045 - accuracy: 0.8019 - val_loss: 0.5310 - val_accuracy: 0.7976\n",
      "Epoch 20/100\n",
      "1158/1158 [==============================] - 45s 38ms/step - loss: 0.4903 - accuracy: 0.8072 - val_loss: 0.5400 - val_accuracy: 0.7962\n",
      "Epoch 21/100\n",
      "1158/1158 [==============================] - 44s 38ms/step - loss: 0.4837 - accuracy: 0.8115 - val_loss: 0.5664 - val_accuracy: 0.7928\n",
      "Epoch 22/100\n",
      "1158/1158 [==============================] - 44s 38ms/step - loss: 0.4795 - accuracy: 0.8140 - val_loss: 0.5435 - val_accuracy: 0.7920\n",
      "Epoch 23/100\n",
      "1158/1158 [==============================] - 48s 41ms/step - loss: 0.4715 - accuracy: 0.8187 - val_loss: 0.5428 - val_accuracy: 0.7947\n",
      "Epoch 24/100\n",
      "1158/1158 [==============================] - 39s 34ms/step - loss: 0.4641 - accuracy: 0.8217 - val_loss: 0.5358 - val_accuracy: 0.7976\n",
      "Epoch 25/100\n",
      "1158/1158 [==============================] - 37s 32ms/step - loss: 0.4608 - accuracy: 0.8244 - val_loss: 0.5392 - val_accuracy: 0.7959\n",
      "Epoch 26/100\n",
      "1158/1158 [==============================] - 38s 33ms/step - loss: 0.4567 - accuracy: 0.8236 - val_loss: 0.5414 - val_accuracy: 0.7949\n",
      "Epoch 27/100\n",
      "1158/1158 [==============================] - 38s 33ms/step - loss: 0.4511 - accuracy: 0.8255 - val_loss: 0.5319 - val_accuracy: 0.8030\n",
      "Epoch 28/100\n",
      "1158/1158 [==============================] - 37s 32ms/step - loss: 0.4432 - accuracy: 0.8289 - val_loss: 0.5301 - val_accuracy: 0.8000\n",
      "Epoch 29/100\n",
      "1158/1158 [==============================] - 37s 32ms/step - loss: 0.4404 - accuracy: 0.8321 - val_loss: 0.5220 - val_accuracy: 0.8037\n",
      "Epoch 30/100\n",
      "1158/1158 [==============================] - 39s 34ms/step - loss: 0.4389 - accuracy: 0.8316 - val_loss: 0.5331 - val_accuracy: 0.8037\n",
      "Epoch 31/100\n",
      "1158/1158 [==============================] - 37s 32ms/step - loss: 0.4314 - accuracy: 0.8334 - val_loss: 0.5417 - val_accuracy: 0.7954\n",
      "Epoch 32/100\n",
      "1158/1158 [==============================] - 39s 34ms/step - loss: 0.4258 - accuracy: 0.8392 - val_loss: 0.5496 - val_accuracy: 0.7988\n",
      "Epoch 33/100\n",
      "1158/1158 [==============================] - 38s 33ms/step - loss: 0.4235 - accuracy: 0.8387 - val_loss: 0.5461 - val_accuracy: 0.8059\n",
      "Epoch 34/100\n",
      "1158/1158 [==============================] - 38s 33ms/step - loss: 0.4139 - accuracy: 0.8437 - val_loss: 0.5492 - val_accuracy: 0.8003\n",
      "Epoch 35/100\n",
      "1158/1158 [==============================] - 42s 37ms/step - loss: 0.4127 - accuracy: 0.8428 - val_loss: 0.5486 - val_accuracy: 0.8054\n",
      "Epoch 36/100\n",
      "1158/1158 [==============================] - 41s 35ms/step - loss: 0.4095 - accuracy: 0.8436 - val_loss: 0.5568 - val_accuracy: 0.7998\n",
      "Epoch 37/100\n",
      "1158/1158 [==============================] - 42s 36ms/step - loss: 0.4047 - accuracy: 0.8466 - val_loss: 0.5499 - val_accuracy: 0.8064\n",
      "Epoch 38/100\n",
      "1158/1158 [==============================] - 46s 40ms/step - loss: 0.4023 - accuracy: 0.8461 - val_loss: 0.5410 - val_accuracy: 0.8037\n",
      "Epoch 39/100\n",
      "1158/1158 [==============================] - 45s 39ms/step - loss: 0.3980 - accuracy: 0.8481 - val_loss: 0.5491 - val_accuracy: 0.8013\n",
      "Epoch 40/100\n",
      "1158/1158 [==============================] - 45s 39ms/step - loss: 0.3937 - accuracy: 0.8504 - val_loss: 0.5513 - val_accuracy: 0.7996\n",
      "Epoch 41/100\n",
      "1158/1158 [==============================] - 40s 35ms/step - loss: 0.3900 - accuracy: 0.8541 - val_loss: 0.5524 - val_accuracy: 0.8017\n",
      "Epoch 42/100\n",
      "1158/1158 [==============================] - 42s 36ms/step - loss: 0.3908 - accuracy: 0.8537 - val_loss: 0.5628 - val_accuracy: 0.8027\n",
      "Epoch 43/100\n",
      "1158/1158 [==============================] - 43s 37ms/step - loss: 0.3856 - accuracy: 0.8545 - val_loss: 0.5735 - val_accuracy: 0.7966\n",
      "Epoch 44/100\n",
      "1158/1158 [==============================] - 43s 37ms/step - loss: 0.3869 - accuracy: 0.8531 - val_loss: 0.5419 - val_accuracy: 0.8044\n",
      "Epoch 45/100\n",
      "1158/1158 [==============================] - 40s 35ms/step - loss: 0.3850 - accuracy: 0.8554 - val_loss: 0.5589 - val_accuracy: 0.7983\n",
      "Epoch 46/100\n",
      "1158/1158 [==============================] - 41s 35ms/step - loss: 0.3786 - accuracy: 0.8561 - val_loss: 0.5617 - val_accuracy: 0.7998\n",
      "Epoch 47/100\n",
      "1158/1158 [==============================] - 46s 40ms/step - loss: 0.3721 - accuracy: 0.8593 - val_loss: 0.5527 - val_accuracy: 0.8066\n",
      "Epoch 48/100\n",
      "1158/1158 [==============================] - 45s 39ms/step - loss: 0.3726 - accuracy: 0.8610 - val_loss: 0.5619 - val_accuracy: 0.8049\n",
      "Epoch 49/100\n",
      "1158/1158 [==============================] - 50s 43ms/step - loss: 0.3736 - accuracy: 0.8599 - val_loss: 0.5515 - val_accuracy: 0.7971\n",
      "Epoch 50/100\n",
      "1158/1158 [==============================] - 41s 36ms/step - loss: 0.3740 - accuracy: 0.8580 - val_loss: 0.5654 - val_accuracy: 0.7959\n",
      "Epoch 51/100\n",
      "1158/1158 [==============================] - 40s 35ms/step - loss: 0.3668 - accuracy: 0.8628 - val_loss: 0.5629 - val_accuracy: 0.7940\n",
      "Epoch 52/100\n",
      "1158/1158 [==============================] - 49s 43ms/step - loss: 0.3599 - accuracy: 0.8640 - val_loss: 0.5585 - val_accuracy: 0.8022\n",
      "Epoch 53/100\n",
      "1158/1158 [==============================] - 50s 43ms/step - loss: 0.3628 - accuracy: 0.8636 - val_loss: 0.5627 - val_accuracy: 0.7983\n",
      "Epoch 54/100\n",
      "1158/1158 [==============================] - 43s 38ms/step - loss: 0.3559 - accuracy: 0.8659 - val_loss: 0.5889 - val_accuracy: 0.7976\n",
      "Epoch 55/100\n",
      "1158/1158 [==============================] - 42s 36ms/step - loss: 0.3605 - accuracy: 0.8653 - val_loss: 0.5858 - val_accuracy: 0.8000\n",
      "Epoch 56/100\n",
      "1158/1158 [==============================] - 42s 37ms/step - loss: 0.3572 - accuracy: 0.8645 - val_loss: 0.5851 - val_accuracy: 0.8017\n",
      "Epoch 57/100\n",
      "1158/1158 [==============================] - 42s 36ms/step - loss: 0.3515 - accuracy: 0.8679 - val_loss: 0.5845 - val_accuracy: 0.7996\n",
      "Epoch 58/100\n",
      "1158/1158 [==============================] - 42s 36ms/step - loss: 0.3487 - accuracy: 0.8682 - val_loss: 0.5856 - val_accuracy: 0.7964\n",
      "Epoch 59/100\n",
      "1158/1158 [==============================] - 42s 36ms/step - loss: 0.3474 - accuracy: 0.8677 - val_loss: 0.6145 - val_accuracy: 0.8034\n",
      "Epoch 60/100\n",
      "1158/1158 [==============================] - 41s 35ms/step - loss: 0.3494 - accuracy: 0.8703 - val_loss: 0.5927 - val_accuracy: 0.7966\n",
      "Epoch 61/100\n",
      "1158/1158 [==============================] - 41s 36ms/step - loss: 0.3479 - accuracy: 0.8681 - val_loss: 0.6007 - val_accuracy: 0.7959\n",
      "Epoch 62/100\n",
      "1158/1158 [==============================] - 42s 36ms/step - loss: 0.3411 - accuracy: 0.8714 - val_loss: 0.6158 - val_accuracy: 0.8008\n",
      "Epoch 63/100\n",
      "1158/1158 [==============================] - 44s 38ms/step - loss: 0.3398 - accuracy: 0.8722 - val_loss: 0.5885 - val_accuracy: 0.7998\n",
      "Epoch 64/100\n",
      "1158/1158 [==============================] - 44s 38ms/step - loss: 0.3388 - accuracy: 0.8725 - val_loss: 0.5782 - val_accuracy: 0.7991\n",
      "Epoch 65/100\n",
      "1158/1158 [==============================] - 42s 36ms/step - loss: 0.3383 - accuracy: 0.8726 - val_loss: 0.6047 - val_accuracy: 0.8034\n",
      "Epoch 66/100\n",
      "1158/1158 [==============================] - 42s 36ms/step - loss: 0.3370 - accuracy: 0.8725 - val_loss: 0.5862 - val_accuracy: 0.7996\n",
      "Epoch 67/100\n",
      "1158/1158 [==============================] - 41s 35ms/step - loss: 0.3351 - accuracy: 0.8753 - val_loss: 0.6079 - val_accuracy: 0.8042\n",
      "Epoch 68/100\n",
      "1158/1158 [==============================] - 41s 35ms/step - loss: 0.3318 - accuracy: 0.8740 - val_loss: 0.6051 - val_accuracy: 0.8049\n",
      "Epoch 69/100\n",
      "1158/1158 [==============================] - 39s 34ms/step - loss: 0.3310 - accuracy: 0.8752 - val_loss: 0.6023 - val_accuracy: 0.8013\n",
      "Epoch 70/100\n",
      "1158/1158 [==============================] - 39s 34ms/step - loss: 0.3300 - accuracy: 0.8758 - val_loss: 0.6028 - val_accuracy: 0.8013\n",
      "Epoch 71/100\n",
      "1158/1158 [==============================] - 38s 33ms/step - loss: 0.3283 - accuracy: 0.8769 - val_loss: 0.6157 - val_accuracy: 0.7947\n",
      "Epoch 72/100\n",
      "1158/1158 [==============================] - 39s 34ms/step - loss: 0.3329 - accuracy: 0.8744 - val_loss: 0.5973 - val_accuracy: 0.7981\n",
      "Epoch 73/100\n",
      "1158/1158 [==============================] - 38s 33ms/step - loss: 0.3252 - accuracy: 0.8761 - val_loss: 0.5981 - val_accuracy: 0.8013\n",
      "Epoch 74/100\n",
      "1158/1158 [==============================] - 38s 33ms/step - loss: 0.3265 - accuracy: 0.8756 - val_loss: 0.5834 - val_accuracy: 0.8037\n",
      "Epoch 75/100\n",
      "1158/1158 [==============================] - 41s 35ms/step - loss: 0.3255 - accuracy: 0.8771 - val_loss: 0.5938 - val_accuracy: 0.8020\n",
      "Epoch 76/100\n",
      "1158/1158 [==============================] - 47s 41ms/step - loss: 0.3185 - accuracy: 0.8786 - val_loss: 0.5872 - val_accuracy: 0.8003\n",
      "Epoch 77/100\n",
      "1158/1158 [==============================] - 47s 41ms/step - loss: 0.3250 - accuracy: 0.8779 - val_loss: 0.5988 - val_accuracy: 0.7986\n",
      "Epoch 78/100\n",
      "1158/1158 [==============================] - 45s 39ms/step - loss: 0.3156 - accuracy: 0.8805 - val_loss: 0.6144 - val_accuracy: 0.8020\n",
      "Epoch 79/100\n",
      "1158/1158 [==============================] - 45s 39ms/step - loss: 0.3175 - accuracy: 0.8803 - val_loss: 0.6161 - val_accuracy: 0.7969\n",
      "Epoch 80/100\n",
      "1158/1158 [==============================] - 46s 39ms/step - loss: 0.3208 - accuracy: 0.8769 - val_loss: 0.6233 - val_accuracy: 0.7935\n",
      "Epoch 81/100\n",
      "1158/1158 [==============================] - 42s 36ms/step - loss: 0.3114 - accuracy: 0.8812 - val_loss: 0.6067 - val_accuracy: 0.8071\n",
      "Epoch 82/100\n",
      "1158/1158 [==============================] - 44s 38ms/step - loss: 0.3110 - accuracy: 0.8826 - val_loss: 0.6077 - val_accuracy: 0.8022\n",
      "Epoch 83/100\n",
      "1158/1158 [==============================] - 46s 40ms/step - loss: 0.3091 - accuracy: 0.8824 - val_loss: 0.6245 - val_accuracy: 0.7962\n",
      "Epoch 84/100\n",
      "1158/1158 [==============================] - 42s 36ms/step - loss: 0.3093 - accuracy: 0.8820 - val_loss: 0.6117 - val_accuracy: 0.7920\n",
      "Epoch 85/100\n",
      "1158/1158 [==============================] - 41s 35ms/step - loss: 0.3084 - accuracy: 0.8829 - val_loss: 0.6227 - val_accuracy: 0.7945\n",
      "Epoch 86/100\n",
      "1158/1158 [==============================] - 41s 35ms/step - loss: 0.3116 - accuracy: 0.8826 - val_loss: 0.6080 - val_accuracy: 0.8003\n",
      "Epoch 87/100\n",
      "1158/1158 [==============================] - 40s 35ms/step - loss: 0.3068 - accuracy: 0.8847 - val_loss: 0.6136 - val_accuracy: 0.7986\n",
      "Epoch 88/100\n",
      "1158/1158 [==============================] - 40s 35ms/step - loss: 0.3064 - accuracy: 0.8828 - val_loss: 0.6254 - val_accuracy: 0.7996\n",
      "Epoch 89/100\n",
      "1158/1158 [==============================] - 42s 36ms/step - loss: 0.3038 - accuracy: 0.8849 - val_loss: 0.6298 - val_accuracy: 0.7979\n",
      "Epoch 90/100\n",
      "1158/1158 [==============================] - 43s 37ms/step - loss: 0.3065 - accuracy: 0.8842 - val_loss: 0.6176 - val_accuracy: 0.7966\n",
      "Epoch 91/100\n",
      "1158/1158 [==============================] - 42s 36ms/step - loss: 0.3058 - accuracy: 0.8846 - val_loss: 0.6121 - val_accuracy: 0.7896\n",
      "Epoch 92/100\n",
      "1158/1158 [==============================] - 44s 38ms/step - loss: 0.3043 - accuracy: 0.8878 - val_loss: 0.6032 - val_accuracy: 0.7971\n",
      "Epoch 93/100\n",
      "1158/1158 [==============================] - 41s 36ms/step - loss: 0.3026 - accuracy: 0.8865 - val_loss: 0.6180 - val_accuracy: 0.7932\n",
      "Epoch 94/100\n",
      "1158/1158 [==============================] - 41s 35ms/step - loss: 0.3001 - accuracy: 0.8858 - val_loss: 0.6248 - val_accuracy: 0.7996\n",
      "Epoch 95/100\n",
      "1158/1158 [==============================] - 42s 36ms/step - loss: 0.3019 - accuracy: 0.8859 - val_loss: 0.6062 - val_accuracy: 0.8013\n",
      "Epoch 96/100\n",
      "1158/1158 [==============================] - 41s 36ms/step - loss: 0.3006 - accuracy: 0.8865 - val_loss: 0.6242 - val_accuracy: 0.7911\n",
      "Epoch 97/100\n",
      "1158/1158 [==============================] - 42s 36ms/step - loss: 0.2982 - accuracy: 0.8884 - val_loss: 0.6053 - val_accuracy: 0.7969\n",
      "Epoch 98/100\n",
      "1158/1158 [==============================] - 41s 36ms/step - loss: 0.2953 - accuracy: 0.8887 - val_loss: 0.6298 - val_accuracy: 0.7903\n",
      "Epoch 99/100\n",
      "1158/1158 [==============================] - 42s 36ms/step - loss: 0.2975 - accuracy: 0.8876 - val_loss: 0.6091 - val_accuracy: 0.7988\n",
      "Epoch 100/100\n",
      "1158/1158 [==============================] - 43s 37ms/step - loss: 0.2937 - accuracy: 0.8887 - val_loss: 0.6244 - val_accuracy: 0.7949\n"
     ]
    }
   ],
   "source": [
    "callback = tf.keras.callbacks.EarlyStopping(monitor='loss', patience=5)\n",
    "r = model.fit(train_padded, y_train, epochs = 100, validation_data = (valid_padded, y_valid), callbacks=[callback])"
   ]
  },
  {
   "cell_type": "code",
   "execution_count": 40,
   "id": "51a7c09e",
   "metadata": {},
   "outputs": [],
   "source": [
    "preds_lstm2 = np.around(model.predict(valid_padded))\n",
    "preds_lstm2_final = np.array([np.argmax(preds_lstm2[i]) for i in range(len(preds_lstm2))]).astype(int)"
   ]
  },
  {
   "cell_type": "code",
   "execution_count": 41,
   "id": "894a2329",
   "metadata": {},
   "outputs": [
    {
     "name": "stdout",
     "output_type": "stream",
     "text": [
      "ACCURACY:  0.79421768707483\n"
     ]
    },
    {
     "data": {
      "image/png": "[encoded data removed]",
      "text/plain": [
       "<Figure size 864x864 with 2 Axes>"
      ]
     },
     "metadata": {
      "needs_background": "light"
     },
     "output_type": "display_data"
    }
   ],
   "source": [
    "conf_matrix(y_valid, preds_lstm2_final, lb_3class.classes_)"
   ]
  }
 ],
 "metadata": {
  "kernelspec": {
   "display_name": "Python 3 (ipykernel)",
   "language": "python",
   "name": "python3"
  },
  "language_info": {
   "codemirror_mode": {
    "name": "ipython",
    "version": 3
   },
   "file_extension": ".py",
   "mimetype": "text/x-python",
   "name": "python",
   "nbconvert_exporter": "python",
   "pygments_lexer": "ipython3",
   "version": "3.10.6"
  }
 },
 "nbformat": 4,
 "nbformat_minor": 5
}
